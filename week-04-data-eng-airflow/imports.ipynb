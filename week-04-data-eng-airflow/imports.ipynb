{
 "cells": [
  {
   "cell_type": "markdown",
   "metadata": {},
   "source": [
    "# Sanity Check"
   ]
  },
  {
   "cell_type": "markdown",
   "metadata": {},
   "source": [
    "Run the following cell to load the necessary packages. And if you see any errors, please inform instructors to help you troubleshoot; otherwise, you are ready to have fun on Thursday!"
   ]
  },
  {
   "cell_type": "markdown",
   "metadata": {},
   "source": [
    "https://ipython.readthedocs.io/en/stable/install/kernel_install.html\n",
    "https://www.youtube.com/watch?v=m0TLwkje6co\n"
   ]
  },
  {
   "cell_type": "code",
   "execution_count": null,
   "metadata": {},
   "outputs": [],
   "source": [
    "# conda create -n ipykernel_py3 python=3 ipykernel\n",
    "# conda activate ipykernel_py3    # On Windows, remove the word 'source'\n",
    "# python -m ipykernel install --user"
   ]
  },
  {
   "cell_type": "code",
   "execution_count": 1,
   "metadata": {},
   "outputs": [
    {
     "name": "stdout",
     "output_type": "stream",
     "text": [
      "Requirement already satisfied: sweetviz in /home/uchenna/anaconda3/envs/ipykernel_py3/lib/python3.10/site-packages (2.1.4)\n",
      "Requirement already satisfied: pandas!=1.0.0,!=1.0.1,!=1.0.2,>=0.25.3 in /home/uchenna/anaconda3/envs/ipykernel_py3/lib/python3.10/site-packages (from sweetviz) (1.5.2)\n",
      "Requirement already satisfied: jinja2>=2.11.1 in /home/uchenna/anaconda3/envs/ipykernel_py3/lib/python3.10/site-packages (from sweetviz) (3.1.2)\n",
      "Requirement already satisfied: importlib-resources>=1.2.0 in /home/uchenna/anaconda3/envs/ipykernel_py3/lib/python3.10/site-packages (from sweetviz) (5.10.2)\n",
      "Requirement already satisfied: matplotlib>=3.1.3 in /home/uchenna/anaconda3/envs/ipykernel_py3/lib/python3.10/site-packages (from sweetviz) (3.6.2)\n",
      "Requirement already satisfied: tqdm>=4.43.0 in /home/uchenna/anaconda3/envs/ipykernel_py3/lib/python3.10/site-packages (from sweetviz) (4.64.1)\n",
      "Requirement already satisfied: numpy>=1.16.0 in /home/uchenna/anaconda3/envs/ipykernel_py3/lib/python3.10/site-packages (from sweetviz) (1.24.1)\n",
      "Requirement already satisfied: scipy>=1.3.2 in /home/uchenna/anaconda3/envs/ipykernel_py3/lib/python3.10/site-packages (from sweetviz) (1.10.0)\n",
      "Requirement already satisfied: MarkupSafe>=2.0 in /home/uchenna/anaconda3/envs/ipykernel_py3/lib/python3.10/site-packages (from jinja2>=2.11.1->sweetviz) (2.1.1)\n",
      "Requirement already satisfied: python-dateutil>=2.7 in /home/uchenna/anaconda3/envs/ipykernel_py3/lib/python3.10/site-packages (from matplotlib>=3.1.3->sweetviz) (2.8.2)\n",
      "Requirement already satisfied: fonttools>=4.22.0 in /home/uchenna/anaconda3/envs/ipykernel_py3/lib/python3.10/site-packages (from matplotlib>=3.1.3->sweetviz) (4.38.0)\n",
      "Requirement already satisfied: contourpy>=1.0.1 in /home/uchenna/anaconda3/envs/ipykernel_py3/lib/python3.10/site-packages (from matplotlib>=3.1.3->sweetviz) (1.0.6)\n",
      "Requirement already satisfied: kiwisolver>=1.0.1 in /home/uchenna/anaconda3/envs/ipykernel_py3/lib/python3.10/site-packages (from matplotlib>=3.1.3->sweetviz) (1.4.4)\n",
      "Requirement already satisfied: cycler>=0.10 in /home/uchenna/anaconda3/envs/ipykernel_py3/lib/python3.10/site-packages (from matplotlib>=3.1.3->sweetviz) (0.11.0)\n",
      "Requirement already satisfied: pyparsing>=2.2.1 in /home/uchenna/anaconda3/envs/ipykernel_py3/lib/python3.10/site-packages (from matplotlib>=3.1.3->sweetviz) (3.0.9)\n",
      "Requirement already satisfied: packaging>=20.0 in /home/uchenna/anaconda3/envs/ipykernel_py3/lib/python3.10/site-packages (from matplotlib>=3.1.3->sweetviz) (22.0)\n",
      "Requirement already satisfied: pillow>=6.2.0 in /home/uchenna/anaconda3/envs/ipykernel_py3/lib/python3.10/site-packages (from matplotlib>=3.1.3->sweetviz) (9.4.0)\n",
      "Requirement already satisfied: pytz>=2020.1 in /home/uchenna/anaconda3/envs/ipykernel_py3/lib/python3.10/site-packages (from pandas!=1.0.0,!=1.0.1,!=1.0.2,>=0.25.3->sweetviz) (2022.7)\n",
      "Requirement already satisfied: six>=1.5 in /home/uchenna/anaconda3/envs/ipykernel_py3/lib/python3.10/site-packages (from python-dateutil>=2.7->matplotlib>=3.1.3->sweetviz) (1.16.0)\n",
      "Note: you may need to restart the kernel to use updated packages.\n"
     ]
    }
   ],
   "source": [
    "pip install sweetviz"
   ]
  },
  {
   "cell_type": "code",
   "execution_count": 3,
   "metadata": {},
   "outputs": [],
   "source": [
    "import numpy as np      \n",
    "import pandas as pd     \n",
    "\n",
    "import matplotlib.pyplot as plt  \n",
    "import seaborn as sns\n",
    "\n",
    "from sklearn.model_selection import train_test_split\n",
    "from sklearn.preprocessing import MinMaxScaler, OneHotEncoder\n",
    "from sklearn.pipeline import Pipeline\n",
    "from sklearn.impute import SimpleImputer\n",
    "from sklearn.compose import ColumnTransformer\n",
    "from sklearn.linear_model import LinearRegression\n",
    "\n",
    "import sweetviz as sv\n",
    "\n"
   ]
  },
  {
   "cell_type": "code",
   "execution_count": null,
   "metadata": {},
   "outputs": [],
   "source": []
  }
 ],
 "metadata": {
  "kernelspec": {
   "display_name": "Python 3 (ipykernel)",
   "language": "python",
   "name": "python3"
  },
  "language_info": {
   "codemirror_mode": {
    "name": "ipython",
    "version": 3
   },
   "file_extension": ".py",
   "mimetype": "text/x-python",
   "name": "python",
   "nbconvert_exporter": "python",
   "pygments_lexer": "ipython3",
   "version": "3.10.8"
  },
  "toc": {
   "base_numbering": 1,
   "nav_menu": {},
   "number_sections": true,
   "sideBar": true,
   "skip_h1_title": false,
   "title_cell": "Table of Contents",
   "title_sidebar": "Contents",
   "toc_cell": false,
   "toc_position": {},
   "toc_section_display": true,
   "toc_window_display": false
  },
  "vscode": {
   "interpreter": {
    "hash": "07f25d79d22bb07f853fe60dc6a8951878331861792a9e3972b395129bc8db22"
   }
  }
 },
 "nbformat": 4,
 "nbformat_minor": 2
}
